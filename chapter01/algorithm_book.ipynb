{
 "cells": [
  {
   "cell_type": "code",
   "execution_count": 1,
   "id": "02daa00e-89f7-46f7-a605-917896e3944b",
   "metadata": {},
   "outputs": [],
   "source": [
    "def flawed(A):\n",
    "    my_max = 0\n",
    "    for i in range(len(A)):\n",
    "        if my_max < A[i]:\n",
    "            my_max = A[i]\n",
    "    return my_max"
   ]
  },
  {
   "cell_type": "code",
   "execution_count": 2,
   "id": "b4804847-1b41-4d35-9931-8e2200950ac8",
   "metadata": {},
   "outputs": [
    {
     "data": {
      "text/plain": [
       "9"
      ]
     },
     "execution_count": 2,
     "metadata": {},
     "output_type": "execute_result"
    }
   ],
   "source": [
    "num_list = [1, 5, 2, 9, 3, 4]\n",
    "flawed(num_list)"
   ]
  },
  {
   "cell_type": "code",
   "execution_count": null,
   "id": "72c14067-b8e6-4154-9834-373c8e6306d9",
   "metadata": {},
   "outputs": [],
   "source": []
  }
 ],
 "metadata": {
  "kernelspec": {
   "display_name": "Python 3 (ipykernel)",
   "language": "python",
   "name": "python3"
  },
  "language_info": {
   "codemirror_mode": {
    "name": "ipython",
    "version": 3
   },
   "file_extension": ".py",
   "mimetype": "text/x-python",
   "name": "python",
   "nbconvert_exporter": "python",
   "pygments_lexer": "ipython3",
   "version": "3.9.9"
  }
 },
 "nbformat": 4,
 "nbformat_minor": 5
}
