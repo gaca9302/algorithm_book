{
 "cells": [
  {
   "cell_type": "code",
   "execution_count": 13,
   "id": "02daa00e-89f7-46f7-a605-917896e3944b",
   "metadata": {},
   "outputs": [],
   "source": [
    "def flawed(A):\n",
    "    my_max = 0\n",
    "    for v in A:\n",
    "        if my_max < v:\n",
    "            my_max = v\n",
    "    return my_max"
   ]
  },
  {
   "cell_type": "code",
   "execution_count": 14,
   "id": "b4804847-1b41-4d35-9931-8e2200950ac8",
   "metadata": {},
   "outputs": [
    {
     "data": {
      "text/plain": [
       "9"
      ]
     },
     "execution_count": 14,
     "metadata": {},
     "output_type": "execute_result"
    }
   ],
   "source": [
    "num_list = [1, 5, 2, 9, 3, 4]\n",
    "flawed(num_list)"
   ]
  },
  {
   "cell_type": "code",
   "execution_count": 15,
   "id": "72c14067-b8e6-4154-9834-373c8e6306d9",
   "metadata": {},
   "outputs": [],
   "source": [
    "def larges(A):\n",
    "    my_max = A[0]\n",
    "    for i in range(1, len(A)):\n",
    "        if my_max < A[i]:\n",
    "            my_max = A[i]\n",
    "    return my_max    "
   ]
  },
  {
   "cell_type": "code",
   "execution_count": 16,
   "id": "e29c5bdd-3451-4adc-a8ef-fcf74955ec26",
   "metadata": {},
   "outputs": [
    {
     "data": {
      "text/plain": [
       "9"
      ]
     },
     "execution_count": 16,
     "metadata": {},
     "output_type": "execute_result"
    }
   ],
   "source": [
    "larges(num_list)"
   ]
  },
  {
   "cell_type": "code",
   "execution_count": 17,
   "id": "ecd914be-d6d8-4f35-bc20-7d129d06fac7",
   "metadata": {},
   "outputs": [],
   "source": [
    "def alternate(A):\n",
    "    for x in A:\n",
    "        for v in A:\n",
    "            if x < v:\n",
    "                break\n",
    "        else:\n",
    "            return x\n",
    "    return None"
   ]
  },
  {
   "cell_type": "code",
   "execution_count": 18,
   "id": "11c37f14-a79c-4ea4-a22c-06d9b66c8d99",
   "metadata": {
    "scrolled": true
   },
   "outputs": [
    {
     "data": {
      "text/plain": [
       "9"
      ]
     },
     "execution_count": 18,
     "metadata": {},
     "output_type": "execute_result"
    }
   ],
   "source": [
    "alternate(num_list)"
   ]
  },
  {
   "cell_type": "code",
   "execution_count": null,
   "id": "c11b7d2c-1023-4f1e-bff5-019b4dabf331",
   "metadata": {},
   "outputs": [],
   "source": []
  },
  {
   "cell_type": "code",
   "execution_count": null,
   "id": "095dba10-c103-43e6-8545-7ae63d9efd29",
   "metadata": {},
   "outputs": [],
   "source": []
  }
 ],
 "metadata": {
  "kernelspec": {
   "display_name": "Python 3 (ipykernel)",
   "language": "python",
   "name": "python3"
  },
  "language_info": {
   "codemirror_mode": {
    "name": "ipython",
    "version": 3
   },
   "file_extension": ".py",
   "mimetype": "text/x-python",
   "name": "python",
   "nbconvert_exporter": "python",
   "pygments_lexer": "ipython3",
   "version": "3.9.9"
  }
 },
 "nbformat": 4,
 "nbformat_minor": 5
}
